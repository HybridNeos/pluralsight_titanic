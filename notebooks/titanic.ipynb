{
 "cells": [
  {
   "cell_type": "code",
   "execution_count": 3,
   "metadata": {},
   "outputs": [
    {
     "name": "stdout",
     "output_type": "stream",
     "text": [
      "data\t Makefile   README.md\trequirements.txt  test_environment.py\n",
      "docs\t models     references\tsetup.py\t  tox.ini\n",
      "LICENSE  notebooks  reports\tsrc\t\t  Untitled.ipynb\n"
     ]
    }
   ],
   "source": [
    "!ls .."
   ]
  }
 ],
 "metadata": {
  "kernelspec": {
   "display_name": "pluralsight",
   "language": "python",
   "name": "pluralsight"
  },
  "language_info": {
   "codemirror_mode": {
    "name": "ipython",
    "version": 3
   },
   "file_extension": ".py",
   "mimetype": "text/x-python",
   "name": "python",
   "nbconvert_exporter": "python",
   "pygments_lexer": "ipython3",
   "version": "3.6.9"
  }
 },
 "nbformat": 4,
 "nbformat_minor": 4
}
